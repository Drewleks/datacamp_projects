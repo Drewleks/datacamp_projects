{
 "nbformat": 4,
 "metadata": {
  "language_info": {
   "nbconvert_exporter": "python",
   "file_extension": ".py",
   "name": "python",
   "codemirror_mode": {
    "name": "ipython",
    "version": 3
   },
   "mimetype": "text/x-python",
   "pygments_lexer": "ipython3",
   "version": "3.5.2"
  },
  "kernelspec": {
   "name": "pycharm-19b9b8f2",
   "language": "python",
   "display_name": "PyCharm (datacamp_projects)"
  }
 },
 "nbformat_minor": 2,
 "cells": [
  {
   "metadata": {
    "editable": false,
    "tags": [
     "context"
    ],
    "deletable": false,
    "run_control": {
     "frozen": true
    },
    "dc": {
     "key": "13f090f9f0"
    }
   },
   "cell_type": "markdown",
   "source": [
    "## 1. Meet Dr. Ignaz Semmelweis\n",
    "<p><img style=\"float: left;margin:5px 20px 5px 1px\" src=\"https://assets.datacamp.com/production/project_20/img/ignaz_semmelweis_1860.jpeg\"></p>\n",
    "<!--\n",
    "<img style=\"float: left;margin:5px 20px 5px 1px\" src=\"https://assets.datacamp.com/production/project_20/datasets/ignaz_semmelweis_1860.jpeg\">\n",
    "-->\n",
    "<p>This is Dr. Ignaz Semmelweis, a Hungarian physician born in 1818 and active at the Vienna General Hospital. If Dr. Semmelweis looks troubled it's probably because he's thinking about <em>childbed fever</em>: A deadly disease affecting women that just have given birth. He is thinking about it because in the early 1840s at the Vienna General Hospital as many as 10% of the women giving birth die from it. He is thinking about it because he knows the cause of childbed fever: It's the contaminated hands of the doctors delivering the babies. And they won't listen to him and <em>wash their hands</em>!</p>\n",
    "<p>In this notebook, we're going to reanalyze the data that made Semmelweis discover the importance of <em>handwashing</em>. Let's start by looking at the data that made Semmelweis realize that something was wrong with the procedures at Vienna General Hospital.</p>"
   ]
  },
  {
   "execution_count": 1,
   "metadata": {
    "tags": [
     "sample_code"
    ],
    "trusted": true,
    "dc": {
     "key": "13f090f9f0"
    }
   },
   "cell_type": "code",
   "source": [
    "# importing modules\n",
    "import pandas as pd\n",
    "\n",
    "# Read datasets/yearly_deaths_by_clinic.csv into yearly\n",
    "yearly = pd.read_csv(\"datasets/yearly_deaths_by_clinic.csv\")\n",
    "\n",
    "# Print out yearly\n",
    "print(yearly)"
   ],
   "outputs": [
    {
     "ename": "ModuleNotFoundError",
     "evalue": "No module named 'pandas'",
     "output_type": "error",
     "traceback": [
      "\u001B[1;31m---------------------------------------------------------------------------\u001B[0m",
      "\u001B[1;31mModuleNotFoundError\u001B[0m                       Traceback (most recent call last)",
      "\u001B[1;32m<ipython-input-1-afc75113ce7a>\u001B[0m in \u001B[0;36m<module>\u001B[1;34m\u001B[0m\n\u001B[0;32m      1\u001B[0m \u001B[1;31m# importing modules\u001B[0m\u001B[1;33m\u001B[0m\u001B[1;33m\u001B[0m\u001B[1;33m\u001B[0m\u001B[0m\n\u001B[1;32m----> 2\u001B[1;33m \u001B[1;32mimport\u001B[0m \u001B[0mpandas\u001B[0m \u001B[1;32mas\u001B[0m \u001B[0mpd\u001B[0m\u001B[1;33m\u001B[0m\u001B[1;33m\u001B[0m\u001B[0m\n\u001B[0m\u001B[0;32m      3\u001B[0m \u001B[1;33m\u001B[0m\u001B[0m\n\u001B[0;32m      4\u001B[0m \u001B[1;31m# Read datasets/yearly_deaths_by_clinic.csv into yearly\u001B[0m\u001B[1;33m\u001B[0m\u001B[1;33m\u001B[0m\u001B[1;33m\u001B[0m\u001B[0m\n\u001B[0;32m      5\u001B[0m \u001B[0myearly\u001B[0m \u001B[1;33m=\u001B[0m \u001B[0mpd\u001B[0m\u001B[1;33m.\u001B[0m\u001B[0mread_csv\u001B[0m\u001B[1;33m(\u001B[0m\u001B[1;34m\"datasets/yearly_deaths_by_clinic.csv\"\u001B[0m\u001B[1;33m)\u001B[0m\u001B[1;33m\u001B[0m\u001B[1;33m\u001B[0m\u001B[0m\n",
      "\u001B[1;31mModuleNotFoundError\u001B[0m: No module named 'pandas'"
     ]
    }
   ]
  },
  {
   "metadata": {
    "editable": false,
    "tags": [
     "context"
    ],
    "deletable": false,
    "run_control": {
     "frozen": true
    },
    "dc": {
     "key": "45ea098e15"
    }
   },
   "cell_type": "markdown",
   "source": [
    "## 2. The alarming number of deaths\n",
    "<p>The table above shows the number of women giving birth at the two clinics at the Vienna General Hospital for the years 1841 to 1846. You'll notice that giving birth was very dangerous; an <em>alarming</em> number of women died as the result of childbirth, most of them from childbed fever.</p>\n",
    "<p>We see this more clearly if we look at the <em>proportion of deaths</em> out of the number of women giving birth. Let's zoom in on the proportion of deaths at Clinic 1.</p>"
   ]
  },
  {
   "execution_count": null,
   "metadata": {
    "tags": [
     "sample_code"
    ],
    "trusted": true,
    "dc": {
     "key": "45ea098e15"
    }
   },
   "cell_type": "code",
   "source": [
    "# Calculate proportion of deaths per no. births\n",
    "yearly[\"proportion_deaths\"] = yearly[\"deaths\"] / yearly[\"births\"]\n",
    "\n",
    "# Extract clinic 1 data into yearly1 and clinic 2 data into yearly2\n",
    "yearly1 = yearly[yearly['clinic'] == 'clinic 1']\n",
    "yearly2 = yearly[yearly['clinic'] == 'clinic 1']\n",
    "\n",
    "# Print out yearly1\n",
    "print(yearly1)"
   ],
   "outputs": []
  },
  {
   "metadata": {
    "editable": false,
    "tags": [
     "context"
    ],
    "deletable": false,
    "run_control": {
     "frozen": true
    },
    "dc": {
     "key": "2bc9206960"
    }
   },
   "cell_type": "markdown",
   "source": [
    "## 3. Death at the clinics\n",
    "<p>If we now plot the proportion of deaths at both clinic 1 and clinic 2  we'll see a curious pattern...</p>"
   ]
  },
  {
   "execution_count": null,
   "metadata": {
    "tags": [
     "sample_code"
    ],
    "trusted": true,
    "dc": {
     "key": "2bc9206960"
    }
   },
   "cell_type": "code",
   "source": [
    "# This makes plots appear in the notebook\n",
    "%matplotlib inline\n",
    "\n",
    "# Plot yearly proportion of deaths at the two clinics\n",
    "ax = yearly1.plot(x=\"year\", y=\"proportion_deaths\", label=\"Clinic 1\")\n",
    "yearly2.plot(x=\"year\", y=\"proportion_deaths\", label=\"Clinic 2\", ax=ax)\n",
    "ax.set_ylabel(\"Proportion deaths\")"
   ],
   "outputs": []
  },
  {
   "metadata": {
    "editable": false,
    "tags": [
     "context"
    ],
    "deletable": false,
    "run_control": {
     "frozen": true
    },
    "dc": {
     "key": "0c9fdbf550"
    }
   },
   "cell_type": "markdown",
   "source": [
    "## 4. The handwashing begins\n",
    "<p>Why is the proportion of deaths constantly so much higher in Clinic 1? Semmelweis saw the same pattern and was puzzled and distressed. The only difference between the clinics was that many medical students served at Clinic 1, while mostly midwife students served at Clinic 2. While the midwives only tended to the women giving birth, the medical students also spent time in the autopsy rooms examining corpses. </p>\n",
    "<p>Semmelweis started to suspect that something on the corpses, spread from the hands of the medical students, caused childbed fever. So in a desperate attempt to stop the high mortality rates, he decreed: <em>Wash your hands!</em> This was an unorthodox and controversial request, nobody in Vienna knew about bacteria at this point in time. </p>\n",
    "<p>Let's load in monthly data from Clinic 1 to see if the handwashing had any effect.</p>"
   ]
  },
  {
   "execution_count": null,
   "metadata": {
    "tags": [
     "sample_code"
    ],
    "trusted": true,
    "dc": {
     "key": "0c9fdbf550"
    }
   },
   "cell_type": "code",
   "source": [
    "# Read datasets/monthly_deaths.csv into monthly\n",
    "monthly = pd.read_csv('datasets/monthly_deaths.csv', parse_dates=['date'])\n",
    "\n",
    "\n",
    "\n",
    "# Calculate proportion of deaths per no. births\n",
    "monthly[\"proportion_deaths\"] = monthly['deaths'] / monthly['births'] \n",
    "\n",
    "\n",
    "\n",
    "# Print out the first rows in monthly\n",
    "monthly.head()\n"
   ],
   "outputs": []
  },
  {
   "metadata": {
    "editable": false,
    "tags": [
     "context"
    ],
    "deletable": false,
    "run_control": {
     "frozen": true
    },
    "dc": {
     "key": "2da2a84119"
    }
   },
   "cell_type": "markdown",
   "source": [
    "## 5. The effect of handwashing\n",
    "<p>With the data loaded we can now look at the proportion of deaths over time. In the plot below we haven't marked where obligatory handwashing started, but it reduced the proportion of deaths to such a degree that you should be able to spot it!</p>"
   ]
  },
  {
   "execution_count": null,
   "metadata": {
    "tags": [
     "sample_code"
    ],
    "trusted": true,
    "dc": {
     "key": "2da2a84119"
    }
   },
   "cell_type": "code",
   "source": [
    "# Plot monthly proportion of deaths\n",
    "ax = monthly.plot(x=\"date\", y=\"proportion_deaths\")\n",
    "ax.set_ylabel(\"Proportion deaths\")\n",
    "\n"
   ],
   "outputs": []
  },
  {
   "metadata": {
    "editable": false,
    "tags": [
     "context"
    ],
    "deletable": false,
    "run_control": {
     "frozen": true
    },
    "dc": {
     "key": "518e95acc5"
    }
   },
   "cell_type": "markdown",
   "source": "## 6. The effect of handwashing highlighted\n<p>Starting from the summer of 1847 the proportion of deaths is drastically reduced and, yes, this was when Semmelweis made handwashing obligatory. </p>\n<p>The effect of handwashing is made even more clear if we highlight this in the graph.</p>"
  },
  {
   "execution_count": null,
   "metadata": {
    "tags": [
     "sample_code"
    ],
    "trusted": true,
    "dc": {
     "key": "518e95acc5"
    }
   },
   "cell_type": "code",
   "source": "# Date when handwashing was made mandatory\nimport pandas as pd\nhandwashing_start = pd.to_datetime('1847-06-01')\n\n# Split monthly into before and after handwashing_start\nbefore_washing = monthly[monthly[\"date\"] < handwashing_start]\nafter_washing = monthly[monthly[\"date\"] >= handwashing_start]\n\n# Plot monthly proportion of deaths before and after handwashing\nax = before_washing.plot(x=\"date\", y=\"proportion_deaths\")\nafter_washing.plot(x=\"date\", y=\"proportion_deaths\", ax=ax)\nax.set_ylabel(\"Proportion deaths\")\n",
   "outputs": []
  },
  {
   "metadata": {
    "editable": false,
    "tags": [
     "context"
    ],
    "deletable": false,
    "run_control": {
     "frozen": true
    },
    "dc": {
     "key": "586a9f9803"
    }
   },
   "cell_type": "markdown",
   "source": "## 7. More handwashing, fewer deaths?\n<p>Again, the graph shows that handwashing had a huge effect. How much did it reduce the monthly proportion of deaths on average?</p>"
  },
  {
   "execution_count": null,
   "metadata": {
    "tags": [
     "sample_code"
    ],
    "trusted": true,
    "dc": {
     "key": "586a9f9803"
    }
   },
   "cell_type": "code",
   "source": "# Difference in mean monthly proportion of deaths due to handwashing\nbefore_proportion = before_washing['proportion_deaths']\nafter_proportion = after_washing['proportion_deaths']\nmean_diff = after_proportion.mean() - before_proportion.mean()\nmean_diff",
   "outputs": []
  },
  {
   "metadata": {
    "editable": false,
    "tags": [
     "context"
    ],
    "deletable": false,
    "run_control": {
     "frozen": true
    },
    "dc": {
     "key": "d8ff65292a"
    }
   },
   "cell_type": "markdown",
   "source": "## 8. A Bootstrap analysis of Semmelweis handwashing data\n<p>It reduced the proportion of deaths by around 8 percentage points! From 10% on average to just 2% (which is still a high number by modern standards). </p>\n<p>To get a feeling for the uncertainty around how much handwashing reduces mortalities we could look at a confidence interval (here calculated using the bootstrap method).</p>"
  },
  {
   "execution_count": null,
   "metadata": {
    "tags": [
     "sample_code"
    ],
    "trusted": true,
    "dc": {
     "key": "d8ff65292a"
    }
   },
   "cell_type": "code",
   "source": "# A bootstrap analysis of the reduction of deaths due to handwashing\nboot_mean_diff = []\nfor i in range(3000):\n    boot_before = before_proportion.sample(frac=1, replace=True)\n    boot_after = after_proportion.sample(frac=1, replace=True)\n    boot_mean_diff.append(boot_after.mean() - boot_before.mean())\n\n# Calculating a 95% confidence interval from boot_mean_diff \nconfidence_interval = pd.Series(boot_mean_diff).quantile([0.025, 0.975])\nconfidence_interval\n",
   "outputs": []
  },
  {
   "metadata": {
    "editable": false,
    "tags": [
     "context"
    ],
    "deletable": false,
    "run_control": {
     "frozen": true
    },
    "dc": {
     "key": "0645423069"
    }
   },
   "cell_type": "markdown",
   "source": "## 9. The fate of Dr. Semmelweis\n<p>So handwashing reduced the proportion of deaths by between 6.7 and 10 percentage points, according to a 95% confidence interval. All in all, it would seem that Semmelweis had solid evidence that handwashing was a simple but highly effective procedure that could save many lives.</p>\n<p>The tragedy is that, despite the evidence, Semmelweis' theory — that childbed fever was caused by some \"substance\" (what we today know as <em>bacteria</em>) from autopsy room corpses — was ridiculed by contemporary scientists. The medical community largely rejected his discovery and in 1849 he was forced to leave the Vienna General Hospital for good.</p>\n<p>One reason for this was that statistics and statistical arguments were uncommon in medical science in the 1800s. Semmelweis only published his data as long tables of raw data, but he didn't show any graphs nor confidence intervals. If he would have had access to the analysis we've just put together he might have been more successful in getting the Viennese doctors to wash their hands.</p>"
  },
  {
   "execution_count": null,
   "metadata": {
    "tags": [
     "sample_code"
    ],
    "trusted": true,
    "collapsed": true,
    "dc": {
     "key": "0645423069"
    }
   },
   "cell_type": "code",
   "source": "# The data Semmelweis collected points to that:\ndoctors_should_wash_their_hands = True",
   "outputs": []
  }
 ]
}